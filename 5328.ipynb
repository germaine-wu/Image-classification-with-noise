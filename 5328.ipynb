{
  "nbformat": 4,
  "nbformat_minor": 0,
  "metadata": {
    "kernelspec": {
      "display_name": "Python 3",
      "language": "python",
      "name": "python3"
    },
    "language_info": {
      "codemirror_mode": {
        "name": "ipython",
        "version": 3
      },
      "file_extension": ".py",
      "mimetype": "text/x-python",
      "name": "python",
      "nbconvert_exporter": "python",
      "pygments_lexer": "ipython3",
      "version": "3.7.4"
    },
    "colab": {
      "name": "5328.ipynb",
      "provenance": [],
      "collapsed_sections": []
    },
    "accelerator": "GPU"
  },
  "cells": [
    {
      "cell_type": "markdown",
      "metadata": {
        "id": "e4pu8MTGjzj0"
      },
      "source": [
        "# **1 Data loading and rocessing**"
      ]
    },
    {
      "cell_type": "code",
      "metadata": {
        "id": "W3Hr5uMIHoC0",
        "outputId": "f4895e00-f2f2-406f-a8d9-4cb374bade3d",
        "colab": {
          "base_uri": "https://localhost:8080/"
        }
      },
      "source": [
        "import numpy as np\n",
        "import matplotlib.pyplot as plt\n",
        "def load_data(root=\"FashionMNIST0.5.npz\"):\n",
        "    dataset = np.load(root)\n",
        "    Xtr = dataset['Xtr'] \n",
        "    Ytr = dataset['Str'] \n",
        "    Xts = dataset['Xts']\n",
        "    Yts = dataset['Yts'] \n",
        "    print(\"======没有subset and sampling=====\")\n",
        "    print(\"training data: \",Xtr.shape) \n",
        "    print(\"noise label: \",Ytr.shape) \n",
        "    print(\"test data: \",Xts.shape) \n",
        "    print(\"clean label: \",Yts.shape)\n",
        "    return Xtr, Ytr, Xts, Yts\n",
        "\n",
        "Xtr, Ytr, Xts, Yts = load_data(\"FashionMNIST0.5.npz\")\n",
        "Xtr_2, Ytr_2, Xts_2, Yts_2 = load_data(root=\"FashionMNIST0.6.npz\")\n",
        "Xtr_3, Ytr_3, Xts_3, Yts_3 = load_data(root=\"CIFAR.npz\")"
      ],
      "execution_count": 64,
      "outputs": [
        {
          "output_type": "stream",
          "text": [
            "======没有subset and sampling=====\n",
            "training data:  (18000, 28, 28)\n",
            "noise label:  (18000,)\n",
            "test data:  (3000, 28, 28)\n",
            "clean label:  (3000,)\n",
            "======没有subset and sampling=====\n",
            "training data:  (18000, 28, 28)\n",
            "noise label:  (18000,)\n",
            "test data:  (3000, 28, 28)\n",
            "clean label:  (3000,)\n",
            "======没有subset and sampling=====\n",
            "training data:  (15000, 32, 32, 3)\n",
            "noise label:  (15000,)\n",
            "test data:  (3000, 32, 32, 3)\n",
            "clean label:  (3000,)\n"
          ],
          "name": "stdout"
        }
      ]
    },
    {
      "cell_type": "code",
      "metadata": {
        "id": "tcr7a7-aHoDA"
      },
      "source": [
        "import os\n",
        "import copy\n",
        "import random\n",
        "import numpy as np\n",
        "import pandas as pd\n",
        "from collections import OrderedDict\n",
        "\n",
        "import torch\n",
        "import torch.nn as nn\n",
        "import torch.nn.functional as F\n",
        "import torch.utils.data\n",
        "from torch.utils.data import Dataset, DataLoader\n",
        "import torchvision\n",
        "import torchvision.models\n",
        "import torchvision.transforms\n",
        "\n",
        "\n",
        "class DatasetArray(Dataset):\n",
        "    def __init__(self, data, labels=None, transform=None):\n",
        "        if labels != None:\n",
        "            self.data_arr = np.asarray(data).astype(np.float32)\n",
        "            self.label_arr = np.asarray(labels).astype(np.long)\n",
        "        else:\n",
        "            tmp_arr = np.asarray(data)\n",
        "            self.data_arr = tmp_arr[:,:-1].astype(np.float32)\n",
        "            self.label_arr = tmp_arr[:,-1].astype(np.long)\n",
        "        self.transform = transform\n",
        "    \n",
        "    def __len__(self):\n",
        "        return len(self.data_arr)\n",
        "    \n",
        "    def __getitem__(self, index):\n",
        "     \n",
        "        data = self.data_arr[index]\n",
        "        label = self.label_arr[index]\n",
        "        \n",
        "        if self.transform is not None:\n",
        "            data = self.transform(data)\n",
        "            \n",
        "        return (data, label)\n",
        "    \n",
        "    \n",
        "def train_val_random_split(data, label, fracs=[0.8,0.2]):\n",
        "\n",
        "    assert len(fracs) == 2 \n",
        "    assert sum(fracs) == 1\n",
        "    assert all(frac > 0 for frac in fracs)\n",
        "    n = len(data)\n",
        "    subset_lens = [int(n*frac) for frac in fracs]\n",
        "    idxs = list(range(n))\n",
        "    random.shuffle(idxs)\n",
        "    data = np.array(data)\n",
        "    label = np.array(label)\n",
        "    new_data = []\n",
        "    new_label = []\n",
        "    start_idx = 0\n",
        "    for subset_len in subset_lens:\n",
        "        end_idx = start_idx + subset_len\n",
        "        cur_idxs = idxs[start_idx:end_idx]\n",
        "        new_data.append(data[cur_idxs,:].tolist())\n",
        "        new_label.append(label[cur_idxs].tolist())\n",
        "        start_idx = end_idx\n",
        "    return new_data, new_label\n",
        "    \n",
        "def get_loader(batch_size =144, num_workers = 1, train_val_split = [0.8,0.2], data=None, label=None):\n",
        "\n",
        "    [train_data, val_data],[train_label, val_label] = train_val_random_split(data, label, fracs = train_val_split) \n",
        "    train_data = DatasetArray(data = train_data, labels = train_label)\n",
        "    val_data = DatasetArray(data = val_data, labels = val_label)\n",
        "\n",
        "\n",
        "    train_loader = DataLoader(\n",
        "        train_data,\n",
        "        batch_size=batch_size, \n",
        "        shuffle=True, \n",
        "        num_workers=num_workers, \n",
        "    )\n",
        "\n",
        "    val_loader = DataLoader(\n",
        "        val_data,\n",
        "        batch_size=100,\n",
        "        shuffle=False,\n",
        "        num_workers=num_workers,\n",
        "    )\n",
        "\n",
        "    return train_loader, val_loader"
      ],
      "execution_count": 98,
      "outputs": []
    },
    {
      "cell_type": "code",
      "metadata": {
        "id": "PiKB_kyxHoDD",
        "outputId": "4fe68b82-5f0e-48a0-f569-87916eb14c25",
        "colab": {
          "base_uri": "https://localhost:8080/",
          "height": 333
        }
      },
      "source": [
        "train_loader, val_loader= get_loader(\n",
        "        batch_size = 144, \n",
        "        num_workers = 1,\n",
        "        train_val_split = [0.8,0.2],\n",
        "        data = Xtr,\n",
        "        label = Ytr\n",
        "    )\n",
        "\n",
        "for i, (data,label) in enumerate(train_loader):\n",
        "    data = np.expand_dims(data, 1)      # if numpy array\n",
        "   # tensor = torch.tensor.unsqueeze(1)  # if torch tensor\n",
        "    print(i,\" = \",data.shape)\n",
        "    plt.imshow(data[0][0])\n",
        "    print(label.shape)\n",
        "    break\n",
        "for i, (data,label) in enumerate(val_loader,0):\n",
        "    print(data.shape)\n",
        "    print(label.shape)\n",
        "    break"
      ],
      "execution_count": 99,
      "outputs": [
        {
          "output_type": "stream",
          "text": [
            "0  =  (144, 1, 28, 28)\n",
            "torch.Size([144])\n",
            "torch.Size([100, 28, 28])\n",
            "torch.Size([100])\n"
          ],
          "name": "stdout"
        },
        {
          "output_type": "display_data",
          "data": {
            "image/png": "[encoded data removed]",
            "text/plain": [
              "<Figure size 432x288 with 1 Axes>"
            ]
          },
          "metadata": {
            "tags": [],
            "needs_background": "light"
          }
        }
      ]
    },
    {
      "cell_type": "markdown",
      "metadata": {
        "id": "gUffhWL19C9n"
      },
      "source": [
        "# **2 Some useful function**"
      ]
    },
    {
      "cell_type": "code",
      "metadata": {
        "id": "FCHVbs_IHoDK"
      },
      "source": [
        "def seed_torch(seed=1029):\n",
        "    r\"\"\"Fix all random seeds for repeating the expriement result.\"\"\"\n",
        "    random.seed(seed)\n",
        "    os.environ['PYTHONHASHSEED'] = str(seed)\n",
        "    np.random.seed(seed)\n",
        "    torch.manual_seed(seed)\n",
        "    torch.cuda.manual_seed(seed)\n",
        "    # If multi-GPUs are used. \n",
        "    torch.cuda.manual_seed_all(seed) \n",
        "    torch.backends.cudnn.benchmark = False\n",
        "    torch.backends.cudnn.deterministic = True\n",
        "\n",
        "\n",
        "def one_hot_embedding(labels, num_classes):\n",
        "    r\"\"\"Embedding labels to one-hot form.\n",
        "\n",
        "    Args:\n",
        "      labels: (LongTensor) class labels, sized [N,].\n",
        "      num_classes: (int) number of classes.\n",
        "\n",
        "    Returns:\n",
        "      (tensor) encoded labels, sized [N, #classes].\n",
        "    \"\"\"\n",
        "    y = torch.eye(num_classes) \n",
        "    return y[labels] \n",
        "\n",
        "\n",
        "def accuracy(output, target, topk=(1,)):\n",
        "    r\"\"\"Computes the precision@k for the specified values of k.\"\"\"\n",
        "    maxk = max(topk)\n",
        "    batch_size = target.size(0)\n",
        "\n",
        "    _, pred = output.topk(maxk, 1, True, True)\n",
        "    pred = pred.t()\n",
        "    correct = pred.eq(target.view(1, -1).expand_as(pred))\n",
        "\n",
        "    res = []\n",
        "    for k in topk:\n",
        "        correct_k = correct[:k].view(-1).float().sum(0)\n",
        "        res.append(correct_k.mul_(100.0 / batch_size))\n",
        "    return res\n",
        "\n",
        "\n",
        "class AverageMeter(object):\n",
        "    def __init__(self):\n",
        "        self.reset()\n",
        "\n",
        "    def reset(self):\n",
        "        self.val = 0\n",
        "        self.avg = 0\n",
        "        self.sum = 0\n",
        "        self.count = 0\n",
        "\n",
        "    def update(self, val, num):\n",
        "        self.val = val\n",
        "        self.sum += val * num\n",
        "        self.count += num\n",
        "        self.avg = self.sum / self.count\n",
        "        \n"
      ],
      "execution_count": 100,
      "outputs": []
    },
    {
      "cell_type": "code",
      "metadata": {
        "id": "n7-HPSYfnCzJ"
      },
      "source": [
        "def eval_flip_rates(model= CNNmodel,name= \"trained_model_1\"):\n",
        "    global config\n",
        "    global train_loader\n",
        "\n",
        "    model.load_state_dict(torch.load(os.path.join(name, 'model_best.pth'))[\"state_dict\"])\n",
        "    model.eval()\n",
        "    pos_condition_p = []\n",
        "    for step, (data, targets) in enumerate(train_loader):\n",
        "        \n",
        "        data = data.to(device)\n",
        "        data = data.unsqueeze(1)\n",
        "        labels = targets.numpy()\n",
        "\n",
        "        with torch.no_grad():\n",
        "            outputs = model(data)\n",
        "\n",
        "        one_hot_labels = one_hot_embedding(targets,3).numpy()\n",
        "        probs = F.softmax(outputs, dim=1).cpu().data.numpy()\n",
        "        data = data.cpu().numpy()\n",
        "        pos_condition_p += probs[:,1].tolist() \n",
        "        \n",
        "    pos_condition_p = sorted(pos_condition_p)\n",
        "\n",
        "    negative_flip_rate, positive_flip_rate = pos_condition_p[0], 1-pos_condition_p[-1]\n",
        "    print('estimated negative flip rate：', est_neg_flip_rate)\n",
        "    print('estimated positive flip rate：', est_pos_flip_rate)\n"
      ],
      "execution_count": 101,
      "outputs": []
    },
    {
      "cell_type": "markdown",
      "metadata": {
        "id": "xS7KROLSiCM_"
      },
      "source": [
        "# **3 DATASET: FshionMINIST0.5**"
      ]
    },
    {
      "cell_type": "markdown",
      "metadata": {
        "id": "QjQKm50P9RT4"
      },
      "source": [
        "# **3.1 DataLoder**"
      ]
    },
    {
      "cell_type": "code",
      "metadata": {
        "id": "ZsdaF-LDiBfR"
      },
      "source": [
        "# load data FashionMINIST0.5 \n",
        "train_loader, val_loader= get_loader(\n",
        "    batch_size = 100, \n",
        "    num_workers = 1,\n",
        "    train_val_split = [0.8,0.2],\n",
        "    data = Xtr,\n",
        "    label = Ytr\n",
        ")\n",
        "\n",
        "# load test data FashionMINIST0.5\n",
        "test_data = DatasetArray(data = Xts, labels = Yts.tolist())\n",
        "test_loader = DataLoader(\n",
        "    test_data,\n",
        "    batch_size=100, \n",
        "    shuffle=True, \n",
        "    num_workers=1, \n",
        ")"
      ],
      "execution_count": 65,
      "outputs": []
    },
    {
      "cell_type": "markdown",
      "metadata": {
        "id": "GfAJPhxV9T2k"
      },
      "source": [
        "# **3.2 Two models (used both in FashionMINIST0.5 and 0.6 dataset)**"
      ]
    },
    {
      "cell_type": "code",
      "metadata": {
        "id": "Vu1atsCkHoDO"
      },
      "source": [
        "class CNNModel(nn.Module):\n",
        "    def __init__(self):\n",
        "        super(CNNModel, self).__init__()\n",
        "\n",
        "        # Convolution 1\n",
        "        self.cnn1 = nn.Conv2d(in_channels=1, out_channels=16, kernel_size=5, stride=1, padding=0)\n",
        "        self.bc1 = nn.BatchNorm2d(16)\n",
        "        self.relu1 = nn.ReLU()\n",
        "        # Max pool 1\n",
        "        self.avgpool1 = nn.AvgPool2d(kernel_size=2)\n",
        "\n",
        "        # Convolution 2\n",
        "        self.cnn2 = nn.Conv2d(in_channels=16, out_channels=32, kernel_size=5, stride=1, padding=0)\n",
        "        self.bc2 = nn.BatchNorm2d(32)\n",
        "        self.relu2 = nn.ReLU()\n",
        "\n",
        "        # Max pool 2\n",
        "        self.avgpool2 = nn.AvgPool2d(kernel_size=2)\n",
        "\n",
        "        self.dropout = nn.Dropout(p=0.5)\n",
        "\n",
        "        # Fully connected 1 (readout)\n",
        "        self.fc1 = nn.Linear(32*4*4, 3)\n",
        "\n",
        "\n",
        "    def forward(self, x):\n",
        "\n",
        "        # Convolution 1\n",
        "        out = self.cnn1(x)\n",
        "        out = self.bc1(out)\n",
        "        out = self.relu1(out)\n",
        "\n",
        "        # Avg pool 1\n",
        "        out = self.avgpool1(out)\n",
        "\n",
        "        # Convolution 2\n",
        "        out = self.cnn2(out)\n",
        "        out = self.bc2(out)\n",
        "        out = self.relu2(out)\n",
        "\n",
        "        # Avg pool 2\n",
        "        out = self.avgpool2(out)\n",
        "\n",
        "        # Resize\n",
        "        # Original size: (100, 32, 7, 7)\n",
        "        # out.size(0): 100\n",
        "        # New out size: (100, 32*7*7)\n",
        "        out = out.view(out.size(0), -1)\n",
        "        out = self.dropout(out)\n",
        "        # Linear function (readout)\n",
        "        out = F.softmax(self.fc1(out))\n",
        "\n",
        "        return out\n",
        "\n",
        "class FashionCNN(nn.Module):\n",
        "    \n",
        "    def __init__(self):\n",
        "        super(FashionCNN, self).__init__()\n",
        "        \n",
        "        self.layer1 = nn.Sequential(\n",
        "            nn.Conv2d(in_channels=1, out_channels=32, kernel_size=3, padding=1),\n",
        "            nn.BatchNorm2d(32),\n",
        "            nn.ReLU(),\n",
        "            nn.MaxPool2d(kernel_size=2, stride=2)\n",
        "        )\n",
        "        \n",
        "        self.layer2 = nn.Sequential(\n",
        "            nn.Conv2d(in_channels=32, out_channels=64, kernel_size=3),\n",
        "            nn.BatchNorm2d(64),\n",
        "            nn.ReLU(),\n",
        "            nn.MaxPool2d(2)\n",
        "        )\n",
        "        \n",
        "        self.fc1 = nn.Linear(in_features=64*6*6, out_features=600)\n",
        "        self.drop = nn.Dropout2d(0.25)\n",
        "        self.fc2 = nn.Linear(in_features=600, out_features=120)\n",
        "        self.fc3 = nn.Linear(in_features=120, out_features=3)\n",
        "        \n",
        "    def forward(self, x):\n",
        "        out = self.layer1(x)\n",
        "        out = self.layer2(out)\n",
        "        out = out.view(out.size(0), -1)\n",
        "        out = self.fc1(out)\n",
        "        out = self.drop(out)\n",
        "        out = self.fc2(out)\n",
        "        out = self.fc3(out)\n",
        "        \n",
        "        return out\n",
        "\n"
      ],
      "execution_count": 102,
      "outputs": []
    },
    {
      "cell_type": "code",
      "metadata": {
        "id": "pI6cFZTPHoDT"
      },
      "source": [
        "def train(epoch, model, optimizer, criterion, train_loader):\n",
        "    top1_acc_meter = AverageMeter()\n",
        "    loss_meter = AverageMeter()\n",
        "\n",
        "    # swith model to to train mode\n",
        "    model.train()\n",
        "    for step, (data, targets) in enumerate(train_loader):\n",
        "        \n",
        "        data = torch.tensor(np.expand_dims(data, 1))\n",
        "    #    tensor = torch.tensor.unsqueeze(1)\n",
        "        \n",
        "        data = data.to(device)\n",
        "        targets = targets.to(device)\n",
        "\n",
        "        preds = model(data)\n",
        "        \n",
        "        loss = criterion(preds, targets)\n",
        "\n",
        "        optimizer.zero_grad()\n",
        "\n",
        "        loss.backward()\n",
        "\n",
        "        optimizer.step()\n",
        "\n",
        "        [top1_acc] = accuracy(preds.data, targets.data, topk=(1,)) \n",
        "        min_batch_size = data.size(0)\n",
        "        top1_acc_meter.update(top1_acc.item(), min_batch_size)\n",
        "        loss_meter.update(loss.item(), min_batch_size)\n",
        "\n",
        "    return top1_acc_meter.avg\n",
        "    \n",
        "    \n",
        "def validate_and_test(epoch, model, criterion, val_loader, datatype=1):\n",
        "    \n",
        "    acc_list = []\n",
        "\n",
        "    top1_acc_meter = AverageMeter()\n",
        "    loss_meter = AverageMeter()\n",
        "\n",
        "    matrix = torch.Tensor([[0.5,0.2,0.3],[0.3,0.5,0.2],[0.2,0.3,0.5]]).to(device)\n",
        "    matrix_inverse = torch.inverse(matrix).to(device)\n",
        "\n",
        "    matrix_2 = torch.Tensor([[0.4,0.3,0.3],[0.3,0.4,0.3],[0.3,0.3,0.4]]).to(device)\n",
        "    matrix_inverse_2 = torch.inverse(matrix_2).to(device)\n",
        "\n",
        "    model.eval()\n",
        "    for step, (data, targets) in enumerate(val_loader): \n",
        "        \n",
        "        data = torch.tensor(np.expand_dims(data, 1))\n",
        "        \n",
        "        # prepare min_batch\n",
        "        data = data.to(device)\n",
        "        targets = targets.to(device)\n",
        "\n",
        "        # predict\n",
        "        with torch.no_grad():\n",
        "            preds = model(data)\n",
        "            preds = preds.to(device)\n",
        "\n",
        "        # forward\n",
        "        loss = criterion(preds, targets)      \n",
        "        \n",
        "        if datatype == 0:\n",
        "            [top1_acc] = accuracy(preds.data, targets.data, topk=(1,)) \n",
        "        if datatype == 1:\n",
        "            clean = torch.mm(matrix_inverse, preds.T).T.to(device)\n",
        "            [top1_acc] = accuracy(clean.data, targets.data, topk=(1,)) \n",
        "\n",
        "        if datatype == 2:   \n",
        "            clean = torch.mm(matrix_inverse_2, preds.T).T.to(device)          \n",
        "            [top1_acc] = accuracy(clean.data, targets.data, topk=(1,)) \n",
        "\n",
        "        acc_list.append(top1_acc.item())\n",
        "        std = torch.std(torch.Tensor(acc_list))\n",
        "        \n",
        "        min_batch_size = data.size(0)  \n",
        "        top1_acc_meter.update(top1_acc.item(), min_batch_size) \n",
        "        loss_meter.update(loss.item(), min_batch_size)\n",
        "\n",
        "    return top1_acc_meter.avg, std\n",
        "\n"
      ],
      "execution_count": 103,
      "outputs": []
    },
    {
      "cell_type": "markdown",
      "metadata": {
        "id": "Qs65rG749i_4"
      },
      "source": [
        "# **3.3 The first classfier for FashionMINIST0.5**"
      ]
    },
    {
      "cell_type": "code",
      "metadata": {
        "id": "WgTlArwCHoDW",
        "outputId": "ab53f109-868f-4b99-ddad-77a8300a8d24",
        "colab": {
          "base_uri": "https://localhost:8080/",
          "height": 1000
        }
      },
      "source": [
        "### FashionMINIST0.5 CNN\n",
        "def run_CNN():\n",
        "    global device\n",
        "    global model\n",
        "    global CNNmodel\n",
        "\n",
        "    mean_train = 0\n",
        "    mean_val = 0\n",
        "    best_top1_acc = 0\n",
        "    losses_train = []\n",
        "    losses_val= []\n",
        "    datatype = 1\n",
        "    epoch = 50\n",
        "    std = 0\n",
        "\n",
        "    # check gpu\n",
        "    device = 'cuda' if torch.cuda.is_available() else 'cpu'    \n",
        "    \n",
        "    # set random seed\n",
        "    seed_torch(1)\n",
        "\n",
        "    # create output directory\n",
        "    outdir = 'trained_model_1'\n",
        "    if not os.path.exists(outdir):\n",
        "        os.makedirs(outdir)\n",
        "\n",
        "\n",
        "    # CNNmodel\n",
        "    CNNmodel = CNNModel()\n",
        "    if torch.cuda.device_count() > 1:\n",
        "        print(torch.cuda.device_count(), \"GPUs are used!\")\n",
        "        CNNmodel = nn.DataParallel(CNNmodel)\n",
        "    CNNmodel.to(device)\n",
        "\n",
        "    # criterion and optimizer\n",
        "    criterion = nn.CrossEntropyLoss()\n",
        "    optimizer = torch.optim.SGD(  \n",
        "        params = CNNmodel.parameters(),\n",
        "        lr = 0.001, \n",
        "        momentum = 0.9,\n",
        "        weight_decay = 1e-5\n",
        "    )\n",
        "\n",
        "    for epoch in range(epoch):\n",
        "\n",
        "        print(\"epoch\", epoch, \":\")\n",
        "\n",
        "        #train\n",
        "        train_acc = train(epoch, CNNmodel, optimizer, criterion, train_loader)\n",
        "        print(\"Train Accuracy \",train_acc)\n",
        "        mean_train += train_acc\n",
        "\n",
        "        #validation\n",
        "        val_acc, std = validate_and_test(epoch, CNNmodel, criterion, val_loader,datatype=0)\n",
        "        print(\"val Accuracy \",val_acc)\n",
        "        mean_val += val_acc\n",
        "\n",
        "        losses_train.append(train_acc)\n",
        "        losses_val.append(val_acc)\n",
        "\n",
        "        print(\"\\n\")\n",
        "\n",
        "        # save the best model so far\n",
        "        if (val_acc > best_top1_acc):\n",
        "            state = OrderedDict([\n",
        "              #  ('config', config),\n",
        "                ('state_dict', CNNmodel.state_dict()),\n",
        "                ('optimizer', optimizer.state_dict()),\n",
        "                ('epoch', epoch),\n",
        "                ('top1-accuracy', val_acc),\n",
        "            ])\n",
        "            best_model_path = os.path.join(outdir, 'model_best.pth')\n",
        "            torch.save(state, best_model_path)\n",
        "            best_top1_acc = val_acc\n",
        "\n",
        "    print(\"train mean:\", mean_train/(epoch+1))\n",
        "    print(\"val mean:\", mean_val/(epoch+1))\n",
        "\n",
        "    plt.title('train accuracy')\n",
        "    plt.plot(np.arange(len(losses_train)), losses_train, color='red',label='train')\n",
        "    plt.plot(np.arange(len(losses_val)),losses_val, color='green', label='val') \n",
        "\n",
        "    test_accurac, std = validate_and_test(1, CNNmodel, criterion, test_loader, datatype = 0)\n",
        "    print(\"Test mean:\",test_accurac) \n",
        "    print(\"Test standard\", std )\n",
        "\n",
        "    test_accuracy, std1 = validate_and_test(1, CNNmodel, criterion, test_loader, datatype = 1)\n",
        "    print(\"Test mean:\",test_accuracy) \n",
        "    print(\"Test standard\", std1)\n",
        "               \n",
        "run_CNN()\n",
        "\n"
      ],
      "execution_count": 15,
      "outputs": [
        {
          "output_type": "stream",
          "text": [
            "epoch 0 :\n"
          ],
          "name": "stdout"
        },
        {
          "output_type": "stream",
          "text": [
            "/usr/local/lib/python3.6/dist-packages/ipykernel_launcher.py:51: UserWarning: Implicit dimension choice for softmax has been deprecated. Change the call to include dim=X as an argument.\n"
          ],
          "name": "stderr"
        },
        {
          "output_type": "stream",
          "text": [
            "Train Accuracy  39.44444444444444\n",
            "val Accuracy  45.638888888888886\n",
            "\n",
            "\n",
            "epoch 1 :\n",
            "Train Accuracy  45.80555555555556\n",
            "val Accuracy  46.52777777777778\n",
            "\n",
            "\n",
            "epoch 2 :\n",
            "Train Accuracy  46.673611111111114\n",
            "val Accuracy  46.5\n",
            "\n",
            "\n",
            "epoch 3 :\n",
            "Train Accuracy  46.729166666666664\n",
            "val Accuracy  46.888888888888886\n",
            "\n",
            "\n",
            "epoch 4 :\n",
            "Train Accuracy  47.24305555555556\n",
            "val Accuracy  46.80555555555556\n",
            "\n",
            "\n",
            "epoch 5 :\n",
            "Train Accuracy  47.25\n",
            "val Accuracy  46.77777777777778\n",
            "\n",
            "\n",
            "epoch 6 :\n",
            "Train Accuracy  47.44444444444444\n",
            "val Accuracy  47.02777777777778\n",
            "\n",
            "\n",
            "epoch 7 :\n",
            "Train Accuracy  47.81944444444444\n",
            "val Accuracy  46.97222222222222\n",
            "\n",
            "\n",
            "epoch 8 :\n",
            "Train Accuracy  47.71527777777778\n",
            "val Accuracy  47.166666666666664\n",
            "\n",
            "\n",
            "epoch 9 :\n",
            "Train Accuracy  47.68055555555556\n",
            "val Accuracy  47.388888888888886\n",
            "\n",
            "\n",
            "epoch 10 :\n",
            "Train Accuracy  47.68055555555556\n",
            "val Accuracy  47.5\n",
            "\n",
            "\n",
            "epoch 11 :\n",
            "Train Accuracy  47.604166666666664\n",
            "val Accuracy  47.55555555555556\n",
            "\n",
            "\n",
            "epoch 12 :\n",
            "Train Accuracy  48.21527777777778\n",
            "val Accuracy  47.47222222222222\n",
            "\n",
            "\n",
            "epoch 13 :\n",
            "Train Accuracy  47.770833333333336\n",
            "val Accuracy  47.47222222222222\n",
            "\n",
            "\n",
            "epoch 14 :\n",
            "Train Accuracy  48.24305555555556\n",
            "val Accuracy  47.611111111111114\n",
            "\n",
            "\n",
            "epoch 15 :\n",
            "Train Accuracy  47.96527777777778\n",
            "val Accuracy  47.44444444444444\n",
            "\n",
            "\n",
            "epoch 16 :\n",
            "Train Accuracy  48.208333333333336\n",
            "val Accuracy  47.52777777777778\n",
            "\n",
            "\n",
            "epoch 17 :\n",
            "Train Accuracy  48.25694444444444\n",
            "val Accuracy  47.583333333333336\n",
            "\n",
            "\n",
            "epoch 18 :\n",
            "Train Accuracy  48.125\n",
            "val Accuracy  47.55555555555556\n",
            "\n",
            "\n",
            "epoch 19 :\n",
            "Train Accuracy  48.291666666666664\n",
            "val Accuracy  47.55555555555556\n",
            "\n",
            "\n",
            "epoch 20 :\n",
            "Train Accuracy  48.354166666666664\n",
            "val Accuracy  47.44444444444444\n",
            "\n",
            "\n",
            "epoch 21 :\n",
            "Train Accuracy  48.041666666666664\n",
            "val Accuracy  47.55555555555556\n",
            "\n",
            "\n",
            "epoch 22 :\n",
            "Train Accuracy  48.020833333333336\n",
            "val Accuracy  47.833333333333336\n",
            "\n",
            "\n",
            "epoch 23 :\n",
            "Train Accuracy  48.38194444444444\n",
            "val Accuracy  47.611111111111114\n",
            "\n",
            "\n",
            "epoch 24 :\n",
            "Train Accuracy  48.083333333333336\n",
            "val Accuracy  47.55555555555556\n",
            "\n",
            "\n",
            "epoch 25 :\n",
            "Train Accuracy  48.354166666666664\n",
            "val Accuracy  47.583333333333336\n",
            "\n",
            "\n",
            "epoch 26 :\n",
            "Train Accuracy  48.451388888888886\n",
            "val Accuracy  47.833333333333336\n",
            "\n",
            "\n",
            "epoch 27 :\n",
            "Train Accuracy  48.24305555555556\n",
            "val Accuracy  47.638888888888886\n",
            "\n",
            "\n",
            "epoch 28 :\n",
            "Train Accuracy  48.451388888888886\n",
            "val Accuracy  47.416666666666664\n",
            "\n",
            "\n",
            "epoch 29 :\n",
            "Train Accuracy  48.145833333333336\n",
            "val Accuracy  47.55555555555556\n",
            "\n",
            "\n",
            "epoch 30 :\n",
            "Train Accuracy  48.604166666666664\n",
            "val Accuracy  47.75\n",
            "\n",
            "\n",
            "epoch 31 :\n",
            "Train Accuracy  48.56944444444444\n",
            "val Accuracy  47.666666666666664\n",
            "\n",
            "\n",
            "epoch 32 :\n",
            "Train Accuracy  48.486111111111114\n",
            "val Accuracy  47.888888888888886\n",
            "\n",
            "\n",
            "epoch 33 :\n",
            "Train Accuracy  48.5\n",
            "val Accuracy  47.77777777777778\n",
            "\n",
            "\n",
            "epoch 34 :\n",
            "Train Accuracy  48.55555555555556\n",
            "val Accuracy  47.75\n",
            "\n",
            "\n",
            "epoch 35 :\n",
            "Train Accuracy  48.8125\n",
            "val Accuracy  47.80555555555556\n",
            "\n",
            "\n",
            "epoch 36 :\n",
            "Train Accuracy  48.208333333333336\n",
            "val Accuracy  47.69444444444444\n",
            "\n",
            "\n",
            "epoch 37 :\n",
            "Train Accuracy  48.548611111111114\n",
            "val Accuracy  47.80555555555556\n",
            "\n",
            "\n",
            "epoch 38 :\n",
            "Train Accuracy  48.65972222222222\n",
            "val Accuracy  47.77777777777778\n",
            "\n",
            "\n",
            "epoch 39 :\n",
            "Train Accuracy  48.479166666666664\n",
            "val Accuracy  47.80555555555556\n",
            "\n",
            "\n",
            "epoch 40 :\n",
            "Train Accuracy  48.326388888888886\n",
            "val Accuracy  48.0\n",
            "\n",
            "\n",
            "epoch 41 :\n",
            "Train Accuracy  48.6875\n",
            "val Accuracy  47.77777777777778\n",
            "\n",
            "\n",
            "epoch 42 :\n",
            "Train Accuracy  48.729166666666664\n",
            "val Accuracy  47.77777777777778\n",
            "\n",
            "\n",
            "epoch 43 :\n",
            "Train Accuracy  48.59722222222222\n",
            "val Accuracy  47.77777777777778\n",
            "\n",
            "\n",
            "epoch 44 :\n",
            "Train Accuracy  48.8125\n",
            "val Accuracy  47.833333333333336\n",
            "\n",
            "\n",
            "epoch 45 :\n",
            "Train Accuracy  48.63194444444444\n",
            "val Accuracy  47.833333333333336\n",
            "\n",
            "\n",
            "epoch 46 :\n",
            "Train Accuracy  48.49305555555556\n",
            "val Accuracy  48.02777777777778\n",
            "\n",
            "\n",
            "epoch 47 :\n",
            "Train Accuracy  48.38194444444444\n",
            "val Accuracy  47.666666666666664\n",
            "\n",
            "\n",
            "epoch 48 :\n",
            "Train Accuracy  48.611111111111114\n",
            "val Accuracy  48.05555555555556\n",
            "\n",
            "\n",
            "epoch 49 :\n",
            "Train Accuracy  48.625\n",
            "val Accuracy  47.80555555555556\n",
            "\n",
            "\n",
            "train mean: 47.960277777777776\n",
            "val mean: 47.505555555555574\n",
            "Test mean: 93.3\n",
            "Test standard tensor(2.5751)\n"
          ],
          "name": "stdout"
        },
        {
          "output_type": "stream",
          "text": [
            "/usr/local/lib/python3.6/dist-packages/ipykernel_launcher.py:51: UserWarning: Implicit dimension choice for softmax has been deprecated. Change the call to include dim=X as an argument.\n"
          ],
          "name": "stderr"
        },
        {
          "output_type": "stream",
          "text": [
            "Test mean: 94.23333333333333\n",
            "Test standard tensor(2.3879)\n"
          ],
          "name": "stdout"
        },
        {
          "output_type": "display_data",
          "data": {
            "image/png": "[encoded data removed]",
            "text/plain": [
              "<Figure size 432x288 with 1 Axes>"
            ]
          },
          "metadata": {
            "tags": [],
            "needs_background": "light"
          }
        }
      ]
    },
    {
      "cell_type": "code",
      "metadata": {
        "id": "qucxe8ASj7Ws",
        "outputId": "d14e639a-867b-47c2-f2bb-e3f5ca9d918f",
        "colab": {
          "base_uri": "https://localhost:8080/"
        }
      },
      "source": [
        "eval_flip_rates(CNNmodel,\"trained_model_1\")"
      ],
      "execution_count": 85,
      "outputs": [
        {
          "output_type": "stream",
          "text": [
            "/usr/local/lib/python3.6/dist-packages/ipykernel_launcher.py:51: UserWarning: Implicit dimension choice for softmax has been deprecated. Change the call to include dim=X as an argument.\n"
          ],
          "name": "stderr"
        },
        {
          "output_type": "stream",
          "text": [
            "estimated negative flip rate： 0.2541327178478241\n",
            "estimated positive flip rate： 0.5483614504337311\n"
          ],
          "name": "stdout"
        }
      ]
    },
    {
      "cell_type": "markdown",
      "metadata": {
        "id": "ME3go1R-9vGb"
      },
      "source": [
        "# **3.4 The second classfier for FashionMINIST0.5**"
      ]
    },
    {
      "cell_type": "code",
      "metadata": {
        "id": "F4T7aQadSrRC",
        "outputId": "368ca238-cbe1-4639-e87d-06fe43247d15",
        "colab": {
          "base_uri": "https://localhost:8080/",
          "height": 893
        }
      },
      "source": [
        "### FashionMINIST0.5 FashionCNN\n",
        "def run_FashionCNN():\n",
        "    global device\n",
        "    global model\n",
        "    global Fashion_model\n",
        "\n",
        "    mean_train = 0\n",
        "    mean_val = 0\n",
        "    best_top1_acc = 0\n",
        "    losses_train = []\n",
        "    losses_val= []\n",
        "    datatype = 1\n",
        "    epoch = 10\n",
        "\n",
        "    # check gpu\n",
        "    device = 'cuda' if torch.cuda.is_available() else 'cpu'\n",
        " \n",
        "    # set random seed\n",
        "    seed_torch(1)\n",
        "\n",
        "    # create output directory\n",
        "    outdir = 'trained_model_2'\n",
        "    if not os.path.exists(outdir):\n",
        "        os.makedirs(outdir)\n",
        "\n",
        "    ## FashionCNN\n",
        "    Fashion_model = FashionCNN()\n",
        "    if torch.cuda.device_count() > 1:\n",
        "        print(torch.cuda.device_count(), \"GPUs are used!\")\n",
        "        Fashion_model = nn.DataParallel(Fashion_model)\n",
        "    Fashion_model.to(device)\n",
        "\n",
        "\n",
        "    # criterion and optimizer\n",
        "    criterion = nn.CrossEntropyLoss()\n",
        "    optimizer = torch.optim.SGD(  \n",
        "        params = Fashion_model.parameters(),\n",
        "        lr = 0.001, \n",
        "        momentum = 0.9,\n",
        "        weight_decay = 1e-5\n",
        "    )\n",
        "\n",
        "\n",
        "    for epoch in range(epoch):\n",
        "\n",
        "        print(\"epoch\", epoch, \":\")\n",
        "\n",
        "        #train\n",
        "        train_acc = train(epoch, Fashion_model, optimizer, criterion, train_loader)\n",
        "        print(\"Train Accuracy \",train_acc)\n",
        "        mean_train += train_acc\n",
        "\n",
        "        #validation\n",
        "        val_acc, s = validate_and_test(epoch, Fashion_model, criterion, val_loader, datatype=0)\n",
        "        print(\"val Accuracy \",val_acc)\n",
        "        mean_val += val_acc\n",
        "\n",
        "        losses_train.append(train_acc)\n",
        "        losses_val.append(val_acc)\n",
        "\n",
        "        # save the best model so far\n",
        "        if (val_acc > best_top1_acc):\n",
        "            state = OrderedDict([\n",
        "            #    ('config', config),\n",
        "                ('state_dict', Fashion_model.state_dict()),\n",
        "                ('optimizer', optimizer.state_dict()),\n",
        "                ('epoch', epoch),\n",
        "                ('top1-accuracy', val_acc),\n",
        "            ])\n",
        "            best_model_path = os.path.join(outdir, 'model_best.pth')\n",
        "            torch.save(state, best_model_path)\n",
        "            best_top1_acc = val_acc\n",
        "    \n",
        "    print(\"train mean:\", mean_train/(epoch+1))\n",
        "    print(\"val mean:\", mean_val/(epoch+1))\n",
        "\n",
        "    plt.title('train loss')\n",
        "    plt.plot(np.arange(len(losses_train)), losses_train, color='red',label='train')\n",
        "    plt.plot(np.arange(len(losses_val)),losses_val, color='green', label='val')  \n",
        "\n",
        "    test_accurac, std = validate_and_test(1, Fashion_model, criterion, test_loader, datatype = 0)\n",
        "    print(\"Test mean:\",test_accurac) \n",
        "    print(\"Test standard: \", std)\n",
        "\n",
        "    test_accuracy, st = validate_and_test(1, Fashion_model, criterion, test_loader, datatype=1)\n",
        "    print(\"Test:\",test_accuracy)\n",
        "    print(\"Test standard: \", st)\n",
        "\n",
        "run_FashionCNN()"
      ],
      "execution_count": 22,
      "outputs": [
        {
          "output_type": "stream",
          "text": [
            "epoch 0 :\n",
            "Train Accuracy  44.46527777777778\n",
            "val Accuracy  47.333333333333336\n",
            "epoch 1 :\n",
            "Train Accuracy  47.486111111111114\n",
            "val Accuracy  48.083333333333336\n",
            "epoch 2 :\n",
            "Train Accuracy  47.50694444444444\n",
            "val Accuracy  47.388888888888886\n",
            "epoch 3 :\n",
            "Train Accuracy  48.09722222222222\n",
            "val Accuracy  47.05555555555556\n",
            "epoch 4 :\n",
            "Train Accuracy  48.729166666666664\n",
            "val Accuracy  47.583333333333336\n",
            "epoch 5 :\n",
            "Train Accuracy  49.020833333333336\n",
            "val Accuracy  48.47222222222222\n",
            "epoch 6 :\n",
            "Train Accuracy  48.513888888888886\n",
            "val Accuracy  47.361111111111114\n",
            "epoch 7 :\n",
            "Train Accuracy  48.833333333333336\n",
            "val Accuracy  48.083333333333336\n",
            "epoch 8 :\n",
            "Train Accuracy  48.826388888888886\n",
            "val Accuracy  47.166666666666664\n",
            "epoch 9 :\n",
            "Train Accuracy  48.94444444444444\n",
            "val Accuracy  47.166666666666664\n",
            "train mean: 48.042361111111106\n",
            "val mean: 47.56944444444444\n",
            "Test mean: 89.03333333333333\n",
            "Test standard:  tensor(3.5378)\n",
            "Test: 92.13333333333334\n",
            "Test standard:  tensor(2.8252)\n"
          ],
          "name": "stdout"
        },
        {
          "output_type": "display_data",
          "data": {
            "image/png": "[encoded data removed]",
            "text/plain": [
              "<Figure size 432x288 with 1 Axes>"
            ]
          },
          "metadata": {
            "tags": [],
            "needs_background": "light"
          }
        }
      ]
    },
    {
      "cell_type": "code",
      "metadata": {
        "id": "xuslHX7_mCOu",
        "outputId": "8b968bb5-95ea-4f42-a4b8-a50bf3aad9dc",
        "colab": {
          "base_uri": "https://localhost:8080/"
        }
      },
      "source": [
        "eval_flip_rates(Fashion_model,\"trained_model_2\")"
      ],
      "execution_count": 86,
      "outputs": [
        {
          "output_type": "stream",
          "text": [
            "estimated negative flip rate： 0.2541327178478241\n",
            "estimated positive flip rate： 0.5483614504337311\n"
          ],
          "name": "stdout"
        }
      ]
    },
    {
      "cell_type": "markdown",
      "metadata": {
        "id": "kGmVkdKeiV9p"
      },
      "source": [
        "# **4 DATASET: FashionMINIST0.6**\n",
        "\n",
        "\n"
      ]
    },
    {
      "cell_type": "markdown",
      "metadata": {
        "id": "vdxehyIS-HVw"
      },
      "source": [
        "# **4.1 Dataloader**"
      ]
    },
    {
      "cell_type": "code",
      "metadata": {
        "id": "GjmlJl90h2UM"
      },
      "source": [
        "# load data FashionMINIST0.6\n",
        "train_loader, val_loader= get_loader(\n",
        "    batch_size = 100, \n",
        "    num_workers = 1,\n",
        "    train_val_split = [0.8,0.2],\n",
        "    data = Xtr_2,\n",
        "    label = Ytr_2\n",
        ")\n",
        "\n",
        "# load test data FashionMINIST0.6\n",
        "test_data = DatasetArray(data = Xts_2, labels = Yts_2.tolist())\n",
        "test_loader = DataLoader(\n",
        "    test_data,\n",
        "    batch_size=100, \n",
        "    shuffle=True, \n",
        "    num_workers=1, \n",
        ")"
      ],
      "execution_count": 96,
      "outputs": []
    },
    {
      "cell_type": "markdown",
      "metadata": {
        "id": "0PekaOIs93Lj"
      },
      "source": [
        "# **4.2 The first classfier for FashionMINIST0.6**"
      ]
    },
    {
      "cell_type": "code",
      "metadata": {
        "id": "xO8t9xby_6d1",
        "outputId": "17515532-eff1-4c7f-d8eb-a79b3d7bbd6a",
        "colab": {
          "base_uri": "https://localhost:8080/",
          "height": 1000
        }
      },
      "source": [
        "### FashionMINIST0.6 CNN\n",
        "def run_CNN_2():\n",
        "    global device\n",
        "    global model\n",
        "    global CNNmodel_2\n",
        "\n",
        "    mean_train = 0\n",
        "    mean_val = 0\n",
        "    best_top1_acc = 0\n",
        "    losses_train = []\n",
        "    losses_val= []\n",
        "    datatype = 0\n",
        "    epoch = 10\n",
        "\n",
        "    # check gpu\n",
        "    device = 'cuda' if torch.cuda.is_available() else 'cpu'    \n",
        "    \n",
        "    # set random seed\n",
        "    seed_torch(1)\n",
        "\n",
        "    # create output directory\n",
        "    outdir = 'trained_model_3'\n",
        "    if not os.path.exists(outdir):\n",
        "        os.makedirs(outdir)\n",
        "\n",
        "    # CNNmodel\n",
        "    CNNmodel_2 = CNNModel()\n",
        "    if torch.cuda.device_count() > 1:\n",
        "        print(torch.cuda.device_count(), \"GPUs are used!\")\n",
        "        CNNmodel_2 = nn.DataParallel(CNNmodel_2)\n",
        "    CNNmodel_2.to(device)\n",
        "\n",
        "    # criterion and optimizer\n",
        "    criterion = nn.CrossEntropyLoss()\n",
        "    optimizer = torch.optim.SGD(  \n",
        "        params = CNNmodel_2.parameters(),\n",
        "        lr = 0.001, \n",
        "        momentum = 0.9,\n",
        "        weight_decay = 1e-5\n",
        "    )\n",
        "\n",
        "    for epoch in range(epoch):\n",
        "\n",
        "        print(\"epoch\", epoch, \":\")\n",
        "\n",
        "        #train\n",
        "        train_acc = train(epoch, CNNmodel_2, optimizer, criterion, train_loader)\n",
        "        print(\"Train Accuracy \",train_acc)\n",
        "        mean_train += train_acc\n",
        "\n",
        "        #validation\n",
        "        val_acc, s = validate_and_test(epoch, CNNmodel_2, criterion, val_loader, datatype=0)\n",
        "        print(\"val Accuracy \",val_acc)\n",
        "        mean_val += val_acc\n",
        "\n",
        "        losses_train.append(train_acc)\n",
        "        losses_val.append(val_acc)\n",
        "\n",
        "        print(\"\\n\")\n",
        "\n",
        "        # save the best model so far\n",
        "        if (val_acc > best_top1_acc):\n",
        "            state = OrderedDict([\n",
        "           #     ('config', config),\n",
        "                ('state_dict', CNNmodel_2.state_dict()),\n",
        "                ('optimizer', optimizer.state_dict()),\n",
        "                ('epoch', epoch),\n",
        "                ('top1-accuracy', val_acc),\n",
        "            ])\n",
        "            best_model_path = os.path.join(outdir, 'model_best.pth')\n",
        "            torch.save(state, best_model_path)\n",
        "            best_top1_acc = val_acc\n",
        "\n",
        "    print(\"train mean:\", mean_train/(epoch+1))\n",
        "    print(\"val mean:\", mean_val/(epoch+1))\n",
        "\n",
        "    plt.title('train loss')\n",
        "    plt.plot(np.arange(len(losses_train)), losses_train, color='red',label='train')\n",
        "    plt.plot(np.arange(len(losses_val)),losses_val, color='green', label='val') \n",
        "\n",
        "    test_accurac, st = validate_and_test(1, CNNmodel_2, criterion, test_loader, datatype=0)\n",
        "    print(\"Test mean:\",test_accurac) \n",
        "    print(\"Test standard: \", st )\n",
        "\n",
        "    test_accuracy, std = validate_and_test(1, CNNmodel_2, criterion, test_loader, datatype=2)\n",
        "    print(\"Test mean:\",test_accuracy) \n",
        "    print(\"Test standard: \", std )\n",
        "                \n",
        "run_CNN_2()\n"
      ],
      "execution_count": 104,
      "outputs": [
        {
          "output_type": "stream",
          "text": [
            "epoch 0 :\n"
          ],
          "name": "stdout"
        },
        {
          "output_type": "stream",
          "text": [
            "/usr/local/lib/python3.6/dist-packages/ipykernel_launcher.py:51: UserWarning: Implicit dimension choice for softmax has been deprecated. Change the call to include dim=X as an argument.\n"
          ],
          "name": "stderr"
        },
        {
          "output_type": "stream",
          "text": [
            "Train Accuracy  37.854165153503416\n",
            "val Accuracy  46.611111111111114\n",
            "\n",
            "\n",
            "epoch 1 :\n",
            "Train Accuracy  44.819442672729494\n",
            "val Accuracy  47.05555555555556\n",
            "\n",
            "\n",
            "epoch 2 :\n",
            "Train Accuracy  45.73610919952392\n",
            "val Accuracy  47.416666666666664\n",
            "\n",
            "\n",
            "epoch 3 :\n",
            "Train Accuracy  46.29860942840576\n",
            "val Accuracy  47.69444444444444\n",
            "\n",
            "\n",
            "epoch 4 :\n",
            "Train Accuracy  46.756942901611325\n",
            "val Accuracy  47.69444444444444\n",
            "\n",
            "\n",
            "epoch 5 :\n",
            "Train Accuracy  46.506942710876466\n",
            "val Accuracy  47.69444444444444\n",
            "\n",
            "\n",
            "epoch 6 :\n",
            "Train Accuracy  47.00694286346435\n",
            "val Accuracy  47.888888888888886\n",
            "\n",
            "\n",
            "epoch 7 :\n",
            "Train Accuracy  46.83333179473877\n",
            "val Accuracy  48.02777777777778\n",
            "\n",
            "\n",
            "epoch 8 :\n",
            "Train Accuracy  46.88194278717041\n",
            "val Accuracy  48.05555555555556\n",
            "\n",
            "\n",
            "epoch 9 :\n",
            "Train Accuracy  47.23610942840576\n",
            "val Accuracy  48.19444444444444\n",
            "\n",
            "\n",
            "train mean: 45.593053894042974\n",
            "val mean: 47.63333333333333\n",
            "Test mean: 90.2\n",
            "Test standard:  tensor(2.2652)\n"
          ],
          "name": "stdout"
        },
        {
          "output_type": "stream",
          "text": [
            "/usr/local/lib/python3.6/dist-packages/ipykernel_launcher.py:51: UserWarning: Implicit dimension choice for softmax has been deprecated. Change the call to include dim=X as an argument.\n"
          ],
          "name": "stderr"
        },
        {
          "output_type": "stream",
          "text": [
            "Test mean: 90.2\n",
            "Test standard:  tensor(2.7342)\n"
          ],
          "name": "stdout"
        },
        {
          "output_type": "display_data",
          "data": {
            "image/png": "[encoded data removed]",
            "text/plain": [
              "<Figure size 432x288 with 1 Axes>"
            ]
          },
          "metadata": {
            "tags": [],
            "needs_background": "light"
          }
        }
      ]
    },
    {
      "cell_type": "code",
      "metadata": {
        "id": "7T24qpEkmy0F",
        "outputId": "0a3adca1-a3a7-423e-c11a-5ac2f1e1da4b",
        "colab": {
          "base_uri": "https://localhost:8080/"
        }
      },
      "source": [
        "eval_flip_rates(CNNmodel_2,\"trained_model_3\")"
      ],
      "execution_count": 105,
      "outputs": [
        {
          "output_type": "stream",
          "text": [
            "/usr/local/lib/python3.6/dist-packages/ipykernel_launcher.py:51: UserWarning: Implicit dimension choice for softmax has been deprecated. Change the call to include dim=X as an argument.\n"
          ],
          "name": "stderr"
        },
        {
          "output_type": "stream",
          "text": [
            "estimated negative flip rate： 0.2541327178478241\n",
            "estimated positive flip rate： 0.5483614504337311\n"
          ],
          "name": "stdout"
        }
      ]
    },
    {
      "cell_type": "markdown",
      "metadata": {
        "id": "YyMGWIYD99tU"
      },
      "source": [
        "# **4.3 The second classfier for FashionMINIST0.6**\n",
        "\n",
        "\n",
        "\n"
      ]
    },
    {
      "cell_type": "code",
      "metadata": {
        "id": "jO83NLaeg3Yl",
        "outputId": "04cc34bd-9f4e-4b8b-8922-953ba50ee5be",
        "colab": {
          "base_uri": "https://localhost:8080/",
          "height": 893
        }
      },
      "source": [
        "### FashionMINIST0.7 FashionCNN\n",
        "def run_FashionCNN_2():\n",
        "    global device\n",
        "    global model\n",
        "    global Fashion_model_2\n",
        "    \n",
        "    mean_train = 0\n",
        "    mean_val = 0\n",
        "    best_top1_acc = 0\n",
        "    losses_train = []\n",
        "    losses_val= []\n",
        "    datatype = 1\n",
        "    epoch = 10\n",
        "\n",
        "    # check gpu\n",
        "    device = 'cuda' if torch.cuda.is_available() else 'cpu'\n",
        " \n",
        "    # set random seed\n",
        "    seed_torch(1)\n",
        "\n",
        "    # create output directory\n",
        "    outdir = 'trained_model_4'\n",
        "    if not os.path.exists(outdir):\n",
        "        os.makedirs(outdir)\n",
        "    \n",
        "    # load data FashionMINIST0.6\n",
        "    train_loader, val_loader= get_loader(\n",
        "        batch_size = 100, \n",
        "        num_workers = 1,\n",
        "        train_val_split = [0.8,0.2],\n",
        "        data = Xtr_2,\n",
        "        label = Ytr_2\n",
        "    )\n",
        "\n",
        "    # load test data FashionMINIST0.6\n",
        "    test_data = DatasetArray(data = Xts_2, labels = Yts_2.tolist())\n",
        "    test_loader = DataLoader(\n",
        "        test_data,\n",
        "        batch_size=100, \n",
        "        shuffle=True, \n",
        "        num_workers=1, \n",
        "    )\n",
        "\n",
        "    ## FashionCNN\n",
        "    Fashion_model_2 = FashionCNN()\n",
        "    if torch.cuda.device_count() > 1:\n",
        "        print(torch.cuda.device_count(), \"GPUs are used!\")\n",
        "        Fashion_model = nn.DataParallel(Fashion_model_2)\n",
        "    Fashion_model_2.to(device)\n",
        "\n",
        "\n",
        "    # criterion and optimizer\n",
        "    criterion = nn.CrossEntropyLoss()\n",
        "    optimizer = torch.optim.SGD(  \n",
        "        params = Fashion_model_2.parameters(),\n",
        "        lr = 0.001, \n",
        "        momentum = 0.9,\n",
        "        weight_decay = 2e-5\n",
        "    )\n",
        "\n",
        "\n",
        "    for epoch in range(epoch):\n",
        "\n",
        "        print(\"epoch\", epoch, \":\")\n",
        "\n",
        "        #train\n",
        "        train_acc = train(epoch, Fashion_model_2, optimizer, criterion, train_loader)\n",
        "        print(\"Train Accuracy \",train_acc)\n",
        "        mean_train += train_acc\n",
        "\n",
        "        #validation\n",
        "        val_acc, s = validate_and_test(epoch, Fashion_model_2, criterion, val_loader, datatype=0)\n",
        "        print(\"val Accuracy \",val_acc)\n",
        "        mean_val += val_acc\n",
        "\n",
        "        losses_train.append(train_acc)\n",
        "        losses_val.append(val_acc)\n",
        "\n",
        "        # save the best model so far\n",
        "        if (val_acc > best_top1_acc):\n",
        "            state = OrderedDict([\n",
        "            #    ('config', config),\n",
        "                ('state_dict', Fashion_model_2.state_dict()),\n",
        "                ('optimizer', optimizer.state_dict()),\n",
        "                ('epoch', epoch),\n",
        "                ('top1-accuracy', val_acc),\n",
        "            ])\n",
        "            best_model_path = os.path.join(outdir, 'model_best.pth')\n",
        "            torch.save(state, best_model_path)\n",
        "            best_top1_acc = val_acc\n",
        "    \n",
        "    print(\"train mean:\", mean_train/(epoch+1))\n",
        "    print(\"val mean:\", mean_val/(epoch+1))\n",
        "\n",
        "    plt.title('train loss')\n",
        "    plt.plot(np.arange(len(losses_train)), losses_train, color='red',label='train')\n",
        "    plt.plot(np.arange(len(losses_val)),losses_val, color='green', label='val')  \n",
        "\n",
        "    test_accurac, st = validate_and_test(1, Fashion_model_2, criterion, test_loader, datatype = 0)\n",
        "    print(\"Test mean:\",test_accurac) \n",
        "    print(\"Test standard: \", st.item() )\n",
        "\n",
        "    test_accuracy, std = validate_and_test(1, Fashion_model_2, criterion, test_loader, datatype=2)\n",
        "    print(\"Test:\",test_accuracy)\n",
        "    print(\"Test standard: \", std.item() )\n",
        "\n",
        "run_FashionCNN_2()"
      ],
      "execution_count": 106,
      "outputs": [
        {
          "output_type": "stream",
          "text": [
            "epoch 0 :\n",
            "Train Accuracy  36.22222222222222\n",
            "val Accuracy  36.77777777777778\n",
            "epoch 1 :\n",
            "Train Accuracy  38.333333333333336\n",
            "val Accuracy  36.30555555555556\n",
            "epoch 2 :\n",
            "Train Accuracy  39.0625\n",
            "val Accuracy  38.111111111111114\n",
            "epoch 3 :\n",
            "Train Accuracy  39.298611111111114\n",
            "val Accuracy  38.083333333333336\n",
            "epoch 4 :\n",
            "Train Accuracy  39.986111111111114\n",
            "val Accuracy  37.888888888888886\n",
            "epoch 5 :\n",
            "Train Accuracy  39.97222222222222\n",
            "val Accuracy  37.94444444444444\n",
            "epoch 6 :\n",
            "Train Accuracy  40.46527777777778\n",
            "val Accuracy  38.19444444444444\n",
            "epoch 7 :\n",
            "Train Accuracy  40.75694444444444\n",
            "val Accuracy  36.44444444444444\n",
            "epoch 8 :\n",
            "Train Accuracy  41.05555555555556\n",
            "val Accuracy  36.0\n",
            "epoch 9 :\n",
            "Train Accuracy  41.40277777777778\n",
            "val Accuracy  37.361111111111114\n",
            "train mean: 39.65555555555556\n",
            "val mean: 37.31111111111112\n",
            "Test mean: 82.26666666666667\n",
            "Test standard:  3.6477043628692627\n",
            "Test: 82.26666666666667\n",
            "Test standard:  4.217642307281494\n"
          ],
          "name": "stdout"
        },
        {
          "output_type": "display_data",
          "data": {
            "image/png": "[encoded data removed]",
            "text/plain": [
              "<Figure size 432x288 with 1 Axes>"
            ]
          },
          "metadata": {
            "tags": [],
            "needs_background": "light"
          }
        }
      ]
    },
    {
      "cell_type": "code",
      "metadata": {
        "id": "8JfeN7eXm8Gd",
        "outputId": "6c945aa9-3eca-4827-ebf8-3e14e2c6a670",
        "colab": {
          "base_uri": "https://localhost:8080/"
        }
      },
      "source": [
        "eval_flip_rates(Fashion_model_2,\"trained_model_4\")"
      ],
      "execution_count": 107,
      "outputs": [
        {
          "output_type": "stream",
          "text": [
            "estimated negative flip rate： 0.2541327178478241\n",
            "estimated positive flip rate： 0.5483614504337311\n"
          ],
          "name": "stdout"
        }
      ]
    },
    {
      "cell_type": "markdown",
      "metadata": {
        "id": "K3-HebFcim1Y"
      },
      "source": [
        "# **5 DATSET: CIFAR**"
      ]
    },
    {
      "cell_type": "markdown",
      "metadata": {
        "id": "GgffPz1Z-Mmw"
      },
      "source": [
        "# **5.1 Dataloader**"
      ]
    },
    {
      "cell_type": "code",
      "metadata": {
        "id": "GVCoTtGSJllC",
        "outputId": "dd1ddb10-9d83-46dd-95df-77d466e5b254",
        "colab": {
          "base_uri": "https://localhost:8080/"
        }
      },
      "source": [
        "# load data FashionMINIST0.5 \n",
        "train_loader, val_loader= get_loader(\n",
        "    batch_size = 100, \n",
        "    num_workers = 1,\n",
        "    train_val_split = [0.8,0.2],\n",
        "    data = Xtr_3,\n",
        "    label = Ytr_3\n",
        ")\n",
        "\n",
        "# load test data FashionMINIST0.5\n",
        "test_data = DatasetArray(data = Xts_3, labels = Yts_3.tolist())\n",
        "test_loader = DataLoader(\n",
        "    test_data,\n",
        "    batch_size=100, \n",
        "    shuffle=True, \n",
        "    num_workers=1, \n",
        ")\n",
        "\n",
        "for i, (d,l) in enumerate(train_loader):\n",
        "  if i == 1:\n",
        "    print(d.shape)\n",
        "    print(l.shape)"
      ],
      "execution_count": 108,
      "outputs": [
        {
          "output_type": "stream",
          "text": [
            "torch.Size([100, 32, 32, 3])\n",
            "torch.Size([100])\n"
          ],
          "name": "stdout"
        }
      ]
    },
    {
      "cell_type": "markdown",
      "metadata": {
        "id": "TCzbV_-s-Uf3"
      },
      "source": [
        "# **4.2 Two models** "
      ]
    },
    {
      "cell_type": "code",
      "metadata": {
        "id": "tHTnVGITWTaQ"
      },
      "source": [
        "class DaiNet7(nn.Module): # 定义卷积神经网络\n",
        "    def __init__(self):\n",
        "        super(DaiNet7, self).__init__() \n",
        "        self.layer1 = nn.Sequential(\n",
        "            nn.Conv2d(3, 64, kernel_size = 3, padding = 1), # 输出 32*32*64\n",
        "            nn.ReLU(),\n",
        "            nn.BatchNorm2d(64),\n",
        "            nn.Dropout(0.1))\n",
        "\n",
        "        self.layer2 = nn.Sequential(\n",
        "            nn.Conv2d(64, 64, kernel_size = 3, padding = 1), # 输出 32*32*64\n",
        "            nn.ReLU(),\n",
        "            nn.BatchNorm2d(64),\n",
        "            nn.MaxPool2d(2, 2),\t\t# 输出 16*16*64\n",
        "            nn.Dropout(0.1))\n",
        "\n",
        "        self.layer3 = nn.Sequential(\n",
        "            nn.Conv2d(64, 128, kernel_size=3, padding=1),\t # 输出 16*16*128\n",
        "            nn.ReLU(),\n",
        "            nn.BatchNorm2d(128))\n",
        "\n",
        "        self.layer4 = nn.Sequential(\n",
        "            nn.Conv2d(128, 128, kernel_size = 3, padding=1), # 输出 16*16*128\n",
        "            nn.ReLU(),\n",
        "            nn.BatchNorm2d(128),\n",
        "            nn.MaxPool2d(2, 2),\t\t# 输出 8*8*128\n",
        "            nn.Dropout(0.5))\n",
        "\n",
        "        self.layer5 = nn.Sequential(\n",
        "            nn.Conv2d(128, 256, kernel_size = 3, padding=1), # 输出 8*8*256\n",
        "            nn.ReLU(),\n",
        "            nn.BatchNorm2d(256),\n",
        "            nn.Dropout(0.5))\n",
        "\n",
        "        self.layer6 = nn.Sequential(\n",
        "            nn.Conv2d(256, 256, kernel_size = 3, padding=1), # 输出 8*8*256\n",
        "            nn.ReLU(),\n",
        "            nn.BatchNorm2d(256),\n",
        "            nn.AvgPool2d(8, 8)) \t# 输出 1*1*256\n",
        "        self.fc1 = nn.Linear(1 * 1 * 256, 3)\n",
        "        \n",
        "    def forward(self, x):\n",
        "        x = self.layer1(x)\n",
        "        x = self.layer2(x)\n",
        "        x = self.layer3(x)\n",
        "        x = self.layer4(x)\n",
        "        x = self.layer5(x)\n",
        "        x = self.layer6(x)\n",
        "\n",
        "        x = x.reshape(-1, 1 * 1 * 256)  \n",
        "        x = F.softmax(self.fc1(x))\n",
        "        return x"
      ],
      "execution_count": 110,
      "outputs": []
    },
    {
      "cell_type": "code",
      "metadata": {
        "id": "TEvXFG0NNceS"
      },
      "source": [
        "class CNN(nn.Module):\n",
        "    def __init__(self):\n",
        "        super(CNN, self).__init__()\n",
        "        self.conv1 = nn.Conv2d(3,   64,  3)\n",
        "        self.conv2 = nn.Conv2d(64,  128, 3)\n",
        "        self.conv3 = nn.Conv2d(128, 256, 3)\n",
        "        self.pool = nn.MaxPool2d(2, 2)\n",
        "        self.fc1 = nn.Linear(64 * 4 * 4, 128)\n",
        "        self.fc2 = nn.Linear(128, 256)\n",
        "        self.fc3 = nn.Linear(256, 3)\n",
        "\n",
        "    def forward(self, x):\n",
        "        x = self.pool(F.relu(self.conv1(x)))\n",
        "        x = self.pool(F.relu(self.conv2(x)))\n",
        "        x = self.pool(F.relu(self.conv3(x)))\n",
        "        x = x.reshape(-1, 64 * 4 * 4)\n",
        "        x = F.relu(self.fc1(x))\n",
        "        x = F.relu(self.fc2(x))\n",
        "        x = self.fc3(x)\n",
        "        return F.softmax(x)"
      ],
      "execution_count": 111,
      "outputs": []
    },
    {
      "cell_type": "markdown",
      "metadata": {
        "id": "_S-JhRhA-b11"
      },
      "source": [
        "# **4.3 Other userful functions**"
      ]
    },
    {
      "cell_type": "code",
      "metadata": {
        "id": "V_NSC3gLOXWf"
      },
      "source": [
        "def train(epoch, model, optimizer, criterion, train_loader):\n",
        "    top1_acc_meter = AverageMeter()\n",
        "    loss_meter = AverageMeter()\n",
        "\n",
        "    # swith model to to train mode\n",
        "    model.train()\n",
        "    for step, (data, targets) in enumerate(train_loader):\n",
        "        data = data.permute(0, 3, 1, 2)\n",
        "        data = data.to(device)\n",
        "        targets = targets.to(device)\n",
        "\n",
        "        preds = model(data)\n",
        "       # print(torch.argmax(preds,dim=1))\n",
        "\n",
        "        loss = criterion(preds, targets)\n",
        "\n",
        "        optimizer.zero_grad()\n",
        "\n",
        "        loss.backward()\n",
        "\n",
        "        optimizer.step()\n",
        "\n",
        "        [top1_acc] = accuracy(preds.data, targets.data, topk=(1,)) \n",
        "        min_batch_size = data.size(0)\n",
        "        top1_acc_meter.update(top1_acc.item(), min_batch_size)\n",
        "        loss_meter.update(loss.item(), min_batch_size)\n",
        "\n",
        "    return top1_acc_meter.avg\n",
        "    \n",
        "    \n",
        "def validate_and_test(epoch, model, criterion, val_loader, datatype=1):\n",
        "    top1_acc_meter = AverageMeter()\n",
        "    loss_meter = AverageMeter()\n",
        "    acc_list = []\n",
        "\n",
        "    model.eval()\n",
        "    for step, (data, targets) in enumerate(val_loader): \n",
        "        data = data.permute(0, 3, 1, 2)\n",
        "        # prepare min_batch\n",
        "        data = data.to(device)\n",
        "        targets = targets.to(device)\n",
        "\n",
        "        # predict\n",
        "        with torch.no_grad():\n",
        "            preds = model(data).to(device)\n",
        "\n",
        "        a = torch.argmax(preds[:,0])\n",
        "        b = torch.argmax(preds[:,1])\n",
        "        c = torch.argmax(preds[:,2])\n",
        "        matrix_transpose = torch.stack((preds[a],preds[b],preds[c]),0).to(device)\n",
        "        matrix_inverse = torch.inverse(matrix_transpose.T).to(device)\n",
        "\n",
        "        # forward\n",
        "        loss = criterion(preds, targets)\n",
        "        \n",
        "        if datatype == 0:\n",
        "            [top1_acc] = accuracy(preds.data, targets.data, topk=(1,)) \n",
        "            \n",
        "        if datatype == 1:\n",
        "            preds_change = torch.mm(matrix_inverse, preds.T).T .to(device)\n",
        "            [top1_acc] = accuracy(preds_change.data, targets.data, topk=(1,)) \n",
        "            \n",
        "        # record accuary and cross entropy losss\n",
        "        min_batch_size = data.size(0)   ## 144\n",
        "        top1_acc_meter.update(top1_acc.item(), min_batch_size)\n",
        "        loss_meter.update(loss.item(), min_batch_size)\n",
        "\n",
        "        acc_list.append(top1_acc.item())\n",
        "        std = torch.std(torch.Tensor(acc_list))\n",
        "\n",
        "    return top1_acc_meter.avg, std\n",
        "\n"
      ],
      "execution_count": 112,
      "outputs": []
    },
    {
      "cell_type": "code",
      "metadata": {
        "id": "c_PmiLOL71uU"
      },
      "source": [
        "def eval_flip_rates_2(model= CNNmodel,name= \"trained_model_1\"):\n",
        "    global config\n",
        "    global train_loader\n",
        "\n",
        "    model.load_state_dict(torch.load(os.path.join(name, 'model_best.pth'))[\"state_dict\"])\n",
        "    model.eval()\n",
        "    pos_condition_p = []\n",
        "    for step, (data, targets) in enumerate(train_loader):\n",
        "        \n",
        "        data = data.to(device)\n",
        "        data = data.squeeze(1)\n",
        "        data = data.permute(0, 3, 1, 2)\n",
        "        labels = targets.numpy()\n",
        "\n",
        "        with torch.no_grad():\n",
        "            outputs = model(data)\n",
        "\n",
        "        one_hot_labels = one_hot_embedding(targets,3).numpy()\n",
        "        probs = F.softmax(outputs, dim=1).cpu().data.numpy()\n",
        "        data = data.cpu().numpy()\n",
        "        pos_condition_p += probs[:,1].tolist() \n",
        "        \n",
        "    pos_condition_p = sorted(pos_condition_p)\n",
        "\n",
        "    negative_flip_rate, positive_flip_rate = pos_condition_p[0], 1-pos_condition_p[-1]\n",
        "    print('estimated negative flip rate：', est_neg_flip_rate)\n",
        "    print('estimated positive flip rate：', est_pos_flip_rate)"
      ],
      "execution_count": 121,
      "outputs": []
    },
    {
      "cell_type": "markdown",
      "metadata": {
        "id": "TJ-67cnk-kek"
      },
      "source": [
        "# **5.4 The first classfier for CIFAR**"
      ]
    },
    {
      "cell_type": "code",
      "metadata": {
        "id": "YhqE1AkhMj7J",
        "outputId": "6714132d-287b-4813-e4a5-2399998738d3",
        "colab": {
          "base_uri": "https://localhost:8080/",
          "height": 1000
        }
      },
      "source": [
        "import torchvision.models as models\n",
        "def Dainet():\n",
        "\n",
        "    global device\n",
        "    global Dainet\n",
        "\n",
        "    mean_train = 0\n",
        "    mean_val = 0\n",
        "    best_top1_acc = 0\n",
        "    losses_train = []\n",
        "    losses_val= []\n",
        "    datatype = 0\n",
        "    epoch = 25\n",
        "\n",
        "    # check gpu\n",
        "    device = 'cuda' if torch.cuda.is_available() else 'cpu'    \n",
        "    \n",
        "    # set random seed\n",
        "    seed_torch(1)\n",
        "\n",
        "    # create output directory\n",
        "    outdir = 'trained_model_5'\n",
        "    if not os.path.exists(outdir):\n",
        "        os.makedirs(outdir)\n",
        "    \n",
        "    # Dainet\n",
        "    Dainet = DaiNet7()\n",
        "    if torch.cuda.device_count() > 1:\n",
        "        print(torch.cuda.device_count(), \"GPUs are used!\")\n",
        "        Dainet = nn.DataParallel(Dainet)\n",
        "    Dainet.to(device)\n",
        "\n",
        "    # criterion and optimizer\n",
        "    criterion = nn.CrossEntropyLoss()\n",
        "    optimizer = torch.optim.SGD(  \n",
        "        params = Dainet.parameters(),\n",
        "        lr = 0.001, \n",
        "        momentum = 0.9,\n",
        "        weight_decay = 5e-4\n",
        "    )\n",
        "\n",
        "    for epoch in range(epoch):\n",
        "\n",
        "        print(\"epoch\", epoch, \":\")\n",
        "\n",
        "        #train\n",
        "        train_acc = train(epoch, Dainet, optimizer, criterion, train_loader)\n",
        "        print(\"Train Accuracy \",train_acc)\n",
        "        mean_train += train_acc\n",
        "\n",
        "        #validation\n",
        "        val_acc, s = validate_and_test(epoch, Dainet, criterion, val_loader, datatype=0)\n",
        "        print(\"val Accuracy \",val_acc)\n",
        "        mean_val += val_acc\n",
        "\n",
        "        losses_train.append(train_acc)\n",
        "        losses_val.append(val_acc)\n",
        "\n",
        "        print(\"\\n\")\n",
        "\n",
        "        # save the best model so far\n",
        "        if (val_acc > best_top1_acc):\n",
        "            state = OrderedDict([\n",
        "               # ('config', config),\n",
        "                ('state_dict', Dainet.state_dict()),\n",
        "                ('optimizer', optimizer.state_dict()),\n",
        "                ('epoch', epoch),\n",
        "                ('top1-accuracy', val_acc),\n",
        "            ])\n",
        "            best_model_path = os.path.join(outdir, 'model_best.pth')\n",
        "            torch.save(state, best_model_path)\n",
        "            best_top1_acc = val_acc\n",
        "\n",
        "    print(\"train mean:\", mean_train/(epoch+1))\n",
        "    print(\"val mean:\", mean_val/(epoch+1))\n",
        "\n",
        "    plt.title('train loss')\n",
        "    plt.plot(np.arange(len(losses_train)), losses_train, color='red',label='train')\n",
        "    plt.plot(np.arange(len(losses_val)),losses_val, color='green', label='val') \n",
        "\n",
        "    test_accurac, st = validate_and_test(1, Dainet, criterion, test_loader, datatype=0)\n",
        "    print(\"Test mean:\",test_accurac) \n",
        "    print(\"Test standard: \", st )\n",
        "\n",
        "    test_accuracy, std = validate_and_test(1, Dainet, criterion, test_loader, datatype=1)\n",
        "    print(\"Test mean:\",test_accuracy) \n",
        "    print(\"Test standard: \", std )\n",
        "                \n",
        "Dainet()\n"
      ],
      "execution_count": 115,
      "outputs": [
        {
          "output_type": "stream",
          "text": [
            "epoch 0 :\n"
          ],
          "name": "stdout"
        },
        {
          "output_type": "stream",
          "text": [
            "/usr/local/lib/python3.6/dist-packages/ipykernel_launcher.py:51: UserWarning: Implicit dimension choice for softmax has been deprecated. Change the call to include dim=X as an argument.\n"
          ],
          "name": "stderr"
        },
        {
          "output_type": "stream",
          "text": [
            "Train Accuracy  34.791666666666664\n",
            "val Accuracy  36.0\n",
            "\n",
            "\n",
            "epoch 1 :\n",
            "Train Accuracy  36.09166666666667\n",
            "val Accuracy  36.43333333333333\n",
            "\n",
            "\n",
            "epoch 2 :\n",
            "Train Accuracy  36.65833333333333\n",
            "val Accuracy  37.56666666666667\n",
            "\n",
            "\n",
            "epoch 3 :\n",
            "Train Accuracy  37.40833333333333\n",
            "val Accuracy  37.53333333333333\n",
            "\n",
            "\n",
            "epoch 4 :\n",
            "Train Accuracy  37.5\n",
            "val Accuracy  38.266666666666666\n",
            "\n",
            "\n",
            "epoch 5 :\n",
            "Train Accuracy  37.725\n",
            "val Accuracy  38.333333333333336\n",
            "\n",
            "\n",
            "epoch 6 :\n",
            "Train Accuracy  38.358333333333334\n",
            "val Accuracy  37.43333333333333\n",
            "\n",
            "\n",
            "epoch 7 :\n",
            "Train Accuracy  38.358333333333334\n",
            "val Accuracy  38.06666666666667\n",
            "\n",
            "\n",
            "epoch 8 :\n",
            "Train Accuracy  38.266666666666666\n",
            "val Accuracy  38.3\n",
            "\n",
            "\n",
            "epoch 9 :\n",
            "Train Accuracy  38.44166666666667\n",
            "val Accuracy  38.6\n",
            "\n",
            "\n",
            "epoch 10 :\n",
            "Train Accuracy  38.166666666666664\n",
            "val Accuracy  37.7\n",
            "\n",
            "\n",
            "epoch 11 :\n",
            "Train Accuracy  38.55833333333333\n",
            "val Accuracy  38.13333333333333\n",
            "\n",
            "\n",
            "epoch 12 :\n",
            "Train Accuracy  38.65\n",
            "val Accuracy  38.7\n",
            "\n",
            "\n",
            "epoch 13 :\n",
            "Train Accuracy  38.35\n",
            "val Accuracy  38.53333333333333\n",
            "\n",
            "\n",
            "epoch 14 :\n",
            "Train Accuracy  38.666666666666664\n",
            "val Accuracy  38.3\n",
            "\n",
            "\n",
            "epoch 15 :\n",
            "Train Accuracy  38.85\n",
            "val Accuracy  38.43333333333333\n",
            "\n",
            "\n",
            "epoch 16 :\n",
            "Train Accuracy  39.208333333333336\n",
            "val Accuracy  38.4\n",
            "\n",
            "\n",
            "epoch 17 :\n",
            "Train Accuracy  39.11666666666667\n",
            "val Accuracy  38.4\n",
            "\n",
            "\n",
            "epoch 18 :\n",
            "Train Accuracy  39.06666666666667\n",
            "val Accuracy  38.833333333333336\n",
            "\n",
            "\n",
            "epoch 19 :\n",
            "Train Accuracy  39.1\n",
            "val Accuracy  37.9\n",
            "\n",
            "\n",
            "epoch 20 :\n",
            "Train Accuracy  38.825\n",
            "val Accuracy  38.56666666666667\n",
            "\n",
            "\n",
            "epoch 21 :\n",
            "Train Accuracy  38.94166666666667\n",
            "val Accuracy  38.1\n",
            "\n",
            "\n",
            "epoch 22 :\n",
            "Train Accuracy  39.016666666666666\n",
            "val Accuracy  38.3\n",
            "\n",
            "\n",
            "epoch 23 :\n",
            "Train Accuracy  39.55\n",
            "val Accuracy  38.5\n",
            "\n",
            "\n",
            "epoch 24 :\n",
            "Train Accuracy  39.733333333333334\n",
            "val Accuracy  38.6\n",
            "\n",
            "\n",
            "train mean: 38.29600000000001\n",
            "val mean: 38.07733333333333\n"
          ],
          "name": "stdout"
        },
        {
          "output_type": "stream",
          "text": [
            "/usr/local/lib/python3.6/dist-packages/ipykernel_launcher.py:51: UserWarning: Implicit dimension choice for softmax has been deprecated. Change the call to include dim=X as an argument.\n"
          ],
          "name": "stderr"
        },
        {
          "output_type": "stream",
          "text": [
            "Test mean: 65.16666666666667\n",
            "Test standard:  tensor(3.9399)\n",
            "Test mean: 66.2\n",
            "Test standard:  tensor(3.8092)\n"
          ],
          "name": "stdout"
        },
        {
          "output_type": "display_data",
          "data": {
            "image/png": "[encoded data removed]",
            "text/plain": [
              "<Figure size 432x288 with 1 Axes>"
            ]
          },
          "metadata": {
            "tags": [],
            "needs_background": "light"
          }
        }
      ]
    },
    {
      "cell_type": "code",
      "metadata": {
        "id": "3FmO0hxjtLQq",
        "outputId": "d3345954-8d2a-4d58-ee6f-db3ada17e199",
        "colab": {
          "base_uri": "https://localhost:8080/"
        }
      },
      "source": [
        "eval_flip_rates_2(Dainet,\"trained_model_5\")"
      ],
      "execution_count": 122,
      "outputs": [
        {
          "output_type": "stream",
          "text": [
            "/usr/local/lib/python3.6/dist-packages/ipykernel_launcher.py:51: UserWarning: Implicit dimension choice for softmax has been deprecated. Change the call to include dim=X as an argument.\n"
          ],
          "name": "stderr"
        },
        {
          "output_type": "stream",
          "text": [
            "estimated negative flip rate： 0.2541327178478241\n",
            "estimated positive flip rate： 0.5483614504337311\n"
          ],
          "name": "stdout"
        }
      ]
    },
    {
      "cell_type": "markdown",
      "metadata": {
        "id": "lNSNrHp--qpk"
      },
      "source": [
        "# **5.5 The second classfier for CIFAR**"
      ]
    },
    {
      "cell_type": "code",
      "metadata": {
        "id": "jSnx1SFxw4lW",
        "outputId": "d2c62d24-d32c-4a1e-ee96-472ee7958188",
        "colab": {
          "base_uri": "https://localhost:8080/",
          "height": 1000
        }
      },
      "source": [
        "### CIFAR\n",
        "def cnn():\n",
        "    global net\n",
        "    mean_train = 0\n",
        "    mean_val = 0\n",
        "    best_top1_acc = 0\n",
        "    losses_train = []\n",
        "    losses_val= []\n",
        "    datatype = 0\n",
        "    epoch = 10\n",
        "\n",
        "    # check gpu\n",
        "    device = 'cuda' if torch.cuda.is_available() else 'cpu'    \n",
        "    \n",
        "    # set random seed\n",
        "    seed_torch(1)\n",
        "\n",
        "    # create output directory\n",
        "    outdir = 'trained_model_6'\n",
        "    if not os.path.exists(outdir):\n",
        "        os.makedirs(outdir)\n",
        "    \n",
        "\n",
        "    # CNNmodel\n",
        "    net = CNN()\n",
        "    if torch.cuda.device_count() > 1:\n",
        "        print(torch.cuda.device_count(), \"GPUs are used!\")\n",
        "        net = nn.DataParallel(net)\n",
        "    net.to(device)\n",
        "\n",
        "    # criterion and optimizer\n",
        "    criterion = nn.CrossEntropyLoss()\n",
        "    optimizer = torch.optim.SGD(  \n",
        "        params = net.parameters(),\n",
        "        lr = 0.001, \n",
        "        momentum = 0.9,\n",
        "        weight_decay = 5e-4\n",
        "    )\n",
        "\n",
        "    for epoch in range(epoch):\n",
        "\n",
        "        print(\"epoch\", epoch, \":\")\n",
        "\n",
        "        #train\n",
        "        train_acc = train(epoch, net, optimizer, criterion, train_loader)\n",
        "        print(\"Train Accuracy \",train_acc)\n",
        "        mean_train += train_acc\n",
        "\n",
        "        #validation\n",
        "        val_acc, s = validate_and_test(epoch, net, criterion, val_loader, datatype=0)\n",
        "        print(\"val Accuracy \",val_acc)\n",
        "        mean_val += val_acc\n",
        "\n",
        "        losses_train.append(train_acc)\n",
        "        losses_val.append(val_acc)\n",
        "\n",
        "        print(\"\\n\")\n",
        "\n",
        "        # save the best model so far\n",
        "        if (val_acc > best_top1_acc):\n",
        "            state = OrderedDict([\n",
        "               # ('config', config),\n",
        "                ('state_dict', net.state_dict()),\n",
        "                ('optimizer', optimizer.state_dict()),\n",
        "                ('epoch', epoch),\n",
        "                ('top1-accuracy', val_acc),\n",
        "            ])\n",
        "            best_model_path = os.path.join(outdir, 'model_best.pth')\n",
        "            torch.save(state, best_model_path)\n",
        "            best_top1_acc = val_acc\n",
        "\n",
        "    print(\"train mean:\", mean_train/epoch)\n",
        "    print(\"val mean:\", mean_val/epoch)\n",
        "\n",
        "    plt.title('train loss')\n",
        "    plt.plot(np.arange(len(losses_train)), losses_train, color='red',label='train')\n",
        "    plt.plot(np.arange(len(losses_val)),losses_val, color='green', label='val') \n",
        "\n",
        "    test_accurac, st = validate_and_test(1, net, criterion, test_loader, datatype=0)\n",
        "    print(\"Test mean:\",test_accurac) \n",
        "    print(\"Test standard: \", st)\n",
        "    \n",
        "    test_accuracy, std = validate_and_test(1, net, criterion, test_loader, datatype=1)\n",
        "    print(\"Test mean:\",test_accuracy) \n",
        "    print(\"Test standard: \", std) \n",
        "                \n",
        "cnn()\n"
      ],
      "execution_count": 124,
      "outputs": [
        {
          "output_type": "stream",
          "text": [
            "epoch 0 :\n"
          ],
          "name": "stdout"
        },
        {
          "output_type": "stream",
          "text": [
            "/usr/local/lib/python3.6/dist-packages/ipykernel_launcher.py:20: UserWarning: Implicit dimension choice for softmax has been deprecated. Change the call to include dim=X as an argument.\n"
          ],
          "name": "stderr"
        },
        {
          "output_type": "stream",
          "text": [
            "Train Accuracy  33.575\n",
            "val Accuracy  35.733333333333334\n",
            "\n",
            "\n",
            "epoch 1 :\n",
            "Train Accuracy  36.24166666666667\n",
            "val Accuracy  34.96666666666667\n",
            "\n",
            "\n",
            "epoch 2 :\n",
            "Train Accuracy  36.53333333333333\n",
            "val Accuracy  35.666666666666664\n",
            "\n",
            "\n",
            "epoch 3 :\n",
            "Train Accuracy  36.675\n",
            "val Accuracy  36.36666666666667\n",
            "\n",
            "\n",
            "epoch 4 :\n",
            "Train Accuracy  37.825\n",
            "val Accuracy  35.63333333333333\n",
            "\n",
            "\n",
            "epoch 5 :\n",
            "Train Accuracy  38.34166666666667\n",
            "val Accuracy  35.733333333333334\n",
            "\n",
            "\n",
            "epoch 6 :\n",
            "Train Accuracy  37.983333333333334\n",
            "val Accuracy  35.9\n",
            "\n",
            "\n",
            "epoch 7 :\n",
            "Train Accuracy  38.81666666666667\n",
            "val Accuracy  37.1\n",
            "\n",
            "\n",
            "epoch 8 :\n",
            "Train Accuracy  38.3\n",
            "val Accuracy  39.06666666666667\n",
            "\n",
            "\n",
            "epoch 9 :\n",
            "Train Accuracy  39.266666666666666\n",
            "val Accuracy  36.63333333333333\n",
            "\n",
            "\n",
            "train mean: 41.50648148148147\n",
            "val mean: 40.31111111111111\n",
            "Test mean: 54.333333333333336\n",
            "Test standard:  tensor(4.3891)\n"
          ],
          "name": "stdout"
        },
        {
          "output_type": "stream",
          "text": [
            "/usr/local/lib/python3.6/dist-packages/ipykernel_launcher.py:20: UserWarning: Implicit dimension choice for softmax has been deprecated. Change the call to include dim=X as an argument.\n"
          ],
          "name": "stderr"
        },
        {
          "output_type": "stream",
          "text": [
            "Test mean: 63.333333333333336\n",
            "Test standard:  tensor(5.9500)\n"
          ],
          "name": "stdout"
        },
        {
          "output_type": "display_data",
          "data": {
            "image/png": "[encoded data removed]",
            "text/plain": [
              "<Figure size 432x288 with 1 Axes>"
            ]
          },
          "metadata": {
            "tags": [],
            "needs_background": "light"
          }
        }
      ]
    },
    {
      "cell_type": "code",
      "metadata": {
        "id": "gGUTo8qttEQC",
        "outputId": "681a7158-f0c3-4a64-ee31-e8abc1d7a472",
        "colab": {
          "base_uri": "https://localhost:8080/"
        }
      },
      "source": [
        "eval_flip_rates_2(net,\"trained_model_6\")"
      ],
      "execution_count": 125,
      "outputs": [
        {
          "output_type": "stream",
          "text": [
            "/usr/local/lib/python3.6/dist-packages/ipykernel_launcher.py:20: UserWarning: Implicit dimension choice for softmax has been deprecated. Change the call to include dim=X as an argument.\n"
          ],
          "name": "stderr"
        },
        {
          "output_type": "stream",
          "text": [
            "estimated negative flip rate： 0.2541327178478241\n",
            "estimated positive flip rate： 0.5483614504337311\n"
          ],
          "name": "stdout"
        }
      ]
    }
  ]
}